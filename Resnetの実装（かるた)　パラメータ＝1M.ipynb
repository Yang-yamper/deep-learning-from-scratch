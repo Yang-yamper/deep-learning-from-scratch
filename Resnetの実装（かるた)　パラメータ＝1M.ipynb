{
  "nbformat": 4,
  "nbformat_minor": 0,
  "metadata": {
    "colab": {
      "provenance": [],
      "collapsed_sections": [],
      "authorship_tag": "ABX9TyOIRQA44ITevIUOPc8VR2Jw",
      "include_colab_link": true
    },
    "kernelspec": {
      "name": "python3",
      "display_name": "Python 3"
    },
    "language_info": {
      "name": "python"
    }
  },
  "cells": [
    {
      "cell_type": "markdown",
      "metadata": {
        "id": "view-in-github",
        "colab_type": "text"
      },
      "source": [
        "<a href=\"https://colab.research.google.com/github/Yang-yamper/deep-learning-from-scratch/blob/master/Resnet%E3%81%AE%E5%AE%9F%E8%A3%85%EF%BC%88%E3%81%8B%E3%82%8B%E3%81%9F)%E3%80%80%E3%83%91%E3%83%A9%E3%83%A1%E3%83%BC%E3%82%BF%EF%BC%9D1M.ipynb\" target=\"_parent\"><img src=\"https://colab.research.google.com/assets/colab-badge.svg\" alt=\"Open In Colab\"/></a>"
      ]
    },
    {
      "cell_type": "code",
      "execution_count": 1,
      "metadata": {
        "colab": {
          "base_uri": "https://localhost:8080/"
        },
        "id": "TDOJAr_nbcdm",
        "outputId": "fa85d5d8-1bee-4eaf-bc72-714544b96ab5"
      },
      "outputs": [
        {
          "output_type": "stream",
          "name": "stdout",
          "text": [
            "Mounted at /content/drive\n"
          ]
        }
      ],
      "source": [
        "from google.colab import drive\n",
        "drive.mount('/content/drive')"
      ]
    },
    {
      "cell_type": "code",
      "source": [
        "import cv2\n",
        "import pandas as pd\n",
        "import numpy as np\n",
        "import matplotlib.pyplot as plt\n",
        "import os \n",
        "import keras\n",
        "from tqdm import tqdm, tqdm_notebook\n",
        "from keras.layers import Input, Conv2D, GlobalAveragePooling2D, BatchNormalization, MaxPooling2D\n",
        "from keras.layers import Add, Activation, Flatten, Dense, Dropout\n",
        "from keras.models import Model\n",
        "from keras.optimizers import RMSprop\n",
        "from keras.preprocessing.image import ImageDataGenerator"
      ],
      "metadata": {
        "id": "9D6R-MfXZvxE"
      },
      "execution_count": 2,
      "outputs": []
    },
    {
      "cell_type": "code",
      "execution_count": 3,
      "metadata": {
        "id": "JVc_wvNdrv7w",
        "colab": {
          "base_uri": "https://localhost:8080/"
        },
        "outputId": "7503318c-6c67-4c40-cc79-50c84b7e10c7"
      },
      "outputs": [
        {
          "output_type": "stream",
          "name": "stderr",
          "text": [
            "/usr/local/lib/python3.7/dist-packages/numpy/lib/npyio.py:528: VisibleDeprecationWarning: Creating an ndarray from ragged nested sequences (which is a list-or-tuple of lists-or-tuples-or ndarrays with different lengths or shapes) is deprecated. If you meant to do this, you must specify 'dtype=object' when creating the ndarray.\n",
            "  arr = np.asanyarray(arr)\n"
          ]
        }
      ],
      "source": [
        "from PIL import Image\n",
        "import os, glob\n",
        "import numpy as np\n",
        "import random, math\n",
        "\n",
        "#画像が保存されているルートディレクトリのパス\n",
        "root_dir = \"/content/drive/MyDrive/result_range\"\n",
        "# 商品名\n",
        "categories = [\"left\",\"right\"]\n",
        "\n",
        "# 画像データ用配列\n",
        "X = []\n",
        "# ラベルデータ用配列\n",
        "Y = []\n",
        "\n",
        "#画像データごとにadd_sample()を呼び出し、X,Yの配列を返す関数\n",
        "def make_sample(files):\n",
        "    global X, Y\n",
        "    X = []\n",
        "    Y = []\n",
        "    for cat, fname in files:\n",
        "        add_sample(cat, fname)\n",
        "    return np.array(X), np.array(Y)\n",
        "\n",
        "#渡された画像データを読み込んでXに格納し、また、\n",
        "#画像データに対応するcategoriesのidxをY格納する関数\n",
        "def add_sample(cat, fname):\n",
        "    img = Image.open(fname)\n",
        "    img = img.convert(\"RGB\")\n",
        "    img = img.resize((250,250))\n",
        "    data = np.asarray(img)\n",
        "    X.append(data)\n",
        "    Y.append(cat)\n",
        "\n",
        "#全データ格納用配列\n",
        "allfiles = []\n",
        "\n",
        "#カテゴリ配列の各値と、それに対応するidxを認識し、全データをallfilesにまとめる\n",
        "for idx, cat in enumerate(categories):\n",
        "    image_dir = root_dir + \"/\" + cat\n",
        "    files = glob.glob(image_dir + \"/*.jpg\")\n",
        "    for f in files:\n",
        "        allfiles.append((idx, f))\n",
        "\n",
        "#シャッフル後、学習データと検証データに分ける\n",
        "random.shuffle(allfiles)\n",
        "th = math.floor(len(allfiles) * 0.8)\n",
        "train = allfiles[0:th]\n",
        "test  = allfiles[th:]\n",
        "X_train, y_train = make_sample(train)\n",
        "X_test, y_test = make_sample(test)\n",
        "xy = (X_train, X_test, y_train, y_test)\n",
        "#データを保存する（データの名前を「tea_data.npy」としている）\n",
        "np.save(\"/content/drive/MyDrive/tea_data.npy\", xy)"
      ]
    },
    {
      "cell_type": "code",
      "execution_count": 4,
      "metadata": {
        "id": "gw0lC_e3sFCs"
      },
      "outputs": [],
      "source": [
        "from keras.utils import np_utils\n",
        "import numpy as np\n",
        "\n",
        "categories = [\"left\",\"right\"]\n",
        "nb_classes = len(categories)\n",
        "\n",
        "X_train, X_test,y_train, y_test = np.load(\"/content/drive/MyDrive/tea_data.npy\", allow_pickle=True)\n",
        "\n",
        "#データの正規化\n",
        "X_train = X_train.astype(\"float\") / 255\n",
        "X_test  = X_test.astype(\"float\")  / 255\n",
        "\n",
        "#kerasで扱えるようにcategoriesをベクトルに変換\n",
        "y_train = np_utils.to_categorical(y_train, nb_classes)\n",
        "y_test  = np_utils.to_categorical(y_test, nb_classes)"
      ]
    },
    {
      "cell_type": "code",
      "source": [
        "#res block\n",
        "def resblock(x, filters, kernel_size):\n",
        "    x_ = Conv2D(filters, kernel_size, padding='same')(x)\n",
        "    x_ = BatchNormalization()(x_)\n",
        "    x_ = Activation(\"relu\")(x_)\n",
        "    x_ = Conv2D(filters, kernel_size, padding='same')(x_)\n",
        "    x = Add()([x_, x])\n",
        "    x = BatchNormalization()(x)\n",
        "    x = Activation(\"relu\")(x)\n",
        "    return x\n",
        "\n",
        "#cnnの構築\n",
        "input_ = Input(shape=(250, 250,3))#横の数、縦の数、RGB\n",
        "\n",
        "c = Conv2D(2, (3,3), padding='same')(input_)\n",
        "c = BatchNormalization()(c)\n",
        "c = Activation('relu')(c)\n",
        "c = resblock(c,filters=2, kernel_size=(3, 3))\n",
        "c = MaxPooling2D(pool_size=(2,2))(c)\n",
        "c = Flatten()(c)\n",
        "c = Dense(32, activation='relu')(c)\n",
        "c = Dropout(0.2)(c)\n",
        "c = Dense(2, activation='sigmoid')(c)\n",
        "\n",
        "model = Model(input_, c)\n",
        "\n",
        "model.summary()\n",
        "model.compile(loss='binary_crossentropy', optimizer=RMSprop(learning_rate=1e-4),metrics=[\"acc\"])"
      ],
      "metadata": {
        "colab": {
          "base_uri": "https://localhost:8080/"
        },
        "id": "FgxTAU8QZyhg",
        "outputId": "86c49497-f319-45f0-83e7-7518b8efb127"
      },
      "execution_count": 18,
      "outputs": [
        {
          "output_type": "stream",
          "name": "stdout",
          "text": [
            "Model: \"model_5\"\n",
            "__________________________________________________________________________________________________\n",
            " Layer (type)                   Output Shape         Param #     Connected to                     \n",
            "==================================================================================================\n",
            " input_7 (InputLayer)           [(None, 250, 250, 3  0           []                               \n",
            "                                )]                                                                \n",
            "                                                                                                  \n",
            " conv2d_18 (Conv2D)             (None, 250, 250, 2)  56          ['input_7[0][0]']                \n",
            "                                                                                                  \n",
            " batch_normalization_17 (BatchN  (None, 250, 250, 2)  8          ['conv2d_18[0][0]']              \n",
            " ormalization)                                                                                    \n",
            "                                                                                                  \n",
            " activation_17 (Activation)     (None, 250, 250, 2)  0           ['batch_normalization_17[0][0]'] \n",
            "                                                                                                  \n",
            " conv2d_19 (Conv2D)             (None, 250, 250, 2)  38          ['activation_17[0][0]']          \n",
            "                                                                                                  \n",
            " batch_normalization_18 (BatchN  (None, 250, 250, 2)  8          ['conv2d_19[0][0]']              \n",
            " ormalization)                                                                                    \n",
            "                                                                                                  \n",
            " activation_18 (Activation)     (None, 250, 250, 2)  0           ['batch_normalization_18[0][0]'] \n",
            "                                                                                                  \n",
            " conv2d_20 (Conv2D)             (None, 250, 250, 2)  38          ['activation_18[0][0]']          \n",
            "                                                                                                  \n",
            " add_6 (Add)                    (None, 250, 250, 2)  0           ['conv2d_20[0][0]',              \n",
            "                                                                  'activation_17[0][0]']          \n",
            "                                                                                                  \n",
            " batch_normalization_19 (BatchN  (None, 250, 250, 2)  8          ['add_6[0][0]']                  \n",
            " ormalization)                                                                                    \n",
            "                                                                                                  \n",
            " activation_19 (Activation)     (None, 250, 250, 2)  0           ['batch_normalization_19[0][0]'] \n",
            "                                                                                                  \n",
            " max_pooling2d_5 (MaxPooling2D)  (None, 125, 125, 2)  0          ['activation_19[0][0]']          \n",
            "                                                                                                  \n",
            " flatten_5 (Flatten)            (None, 31250)        0           ['max_pooling2d_5[0][0]']        \n",
            "                                                                                                  \n",
            " dense_10 (Dense)               (None, 32)           1000032     ['flatten_5[0][0]']              \n",
            "                                                                                                  \n",
            " dropout_5 (Dropout)            (None, 32)           0           ['dense_10[0][0]']               \n",
            "                                                                                                  \n",
            " dense_11 (Dense)               (None, 2)            66          ['dropout_5[0][0]']              \n",
            "                                                                                                  \n",
            "==================================================================================================\n",
            "Total params: 1,000,254\n",
            "Trainable params: 1,000,242\n",
            "Non-trainable params: 12\n",
            "__________________________________________________________________________________________________\n"
          ]
        }
      ]
    },
    {
      "cell_type": "code",
      "source": [
        "history = model.fit(X_train, y_train\n",
        "                   , batch_size = 20\n",
        "                   , epochs = 30\n",
        "                   , validation_split = 0.3\n",
        "                   , verbose = 1)"
      ],
      "metadata": {
        "colab": {
          "base_uri": "https://localhost:8080/"
        },
        "id": "8WUTMBZjZ0vf",
        "outputId": "dda4cd7a-b8eb-40e5-bc73-f009fb8a25c0"
      },
      "execution_count": 19,
      "outputs": [
        {
          "output_type": "stream",
          "name": "stdout",
          "text": [
            "Epoch 1/30\n",
            "41/41 [==============================] - 70s 2s/step - loss: 0.4214 - acc: 0.8274 - val_loss: 0.4809 - val_acc: 0.8547\n",
            "Epoch 2/30\n",
            "41/41 [==============================] - 65s 2s/step - loss: 0.1524 - acc: 0.9510 - val_loss: 0.3580 - val_acc: 0.8832\n",
            "Epoch 3/30\n",
            "41/41 [==============================] - 65s 2s/step - loss: 0.1004 - acc: 0.9633 - val_loss: 0.2768 - val_acc: 0.9031\n",
            "Epoch 4/30\n",
            "41/41 [==============================] - 65s 2s/step - loss: 0.0642 - acc: 0.9853 - val_loss: 0.2056 - val_acc: 0.9202\n",
            "Epoch 5/30\n",
            "41/41 [==============================] - 65s 2s/step - loss: 0.0437 - acc: 0.9890 - val_loss: 0.1708 - val_acc: 0.9373\n",
            "Epoch 6/30\n",
            "41/41 [==============================] - 65s 2s/step - loss: 0.0372 - acc: 0.9939 - val_loss: 0.1070 - val_acc: 0.9573\n",
            "Epoch 7/30\n",
            "41/41 [==============================] - 65s 2s/step - loss: 0.0352 - acc: 0.9890 - val_loss: 0.0593 - val_acc: 0.9829\n",
            "Epoch 8/30\n",
            "41/41 [==============================] - 65s 2s/step - loss: 0.0259 - acc: 0.9939 - val_loss: 0.0610 - val_acc: 0.9829\n",
            "Epoch 9/30\n",
            "41/41 [==============================] - 65s 2s/step - loss: 0.0234 - acc: 0.9939 - val_loss: 0.1943 - val_acc: 0.9288\n",
            "Epoch 10/30\n",
            "41/41 [==============================] - 64s 2s/step - loss: 0.0181 - acc: 0.9963 - val_loss: 0.0454 - val_acc: 0.9858\n",
            "Epoch 11/30\n",
            "41/41 [==============================] - 65s 2s/step - loss: 0.0153 - acc: 0.9951 - val_loss: 0.0511 - val_acc: 0.9801\n",
            "Epoch 12/30\n",
            "41/41 [==============================] - 65s 2s/step - loss: 0.0255 - acc: 0.9951 - val_loss: 0.0749 - val_acc: 0.9744\n",
            "Epoch 13/30\n",
            "41/41 [==============================] - 65s 2s/step - loss: 0.0145 - acc: 0.9951 - val_loss: 0.0409 - val_acc: 0.9915\n",
            "Epoch 14/30\n",
            "41/41 [==============================] - 65s 2s/step - loss: 0.0195 - acc: 0.9951 - val_loss: 0.0502 - val_acc: 0.9858\n",
            "Epoch 15/30\n",
            "41/41 [==============================] - 65s 2s/step - loss: 0.0148 - acc: 0.9963 - val_loss: 0.0487 - val_acc: 0.9886\n",
            "Epoch 16/30\n",
            "41/41 [==============================] - 65s 2s/step - loss: 0.0099 - acc: 0.9976 - val_loss: 0.0589 - val_acc: 0.9858\n",
            "Epoch 17/30\n",
            "41/41 [==============================] - 65s 2s/step - loss: 0.0157 - acc: 0.9951 - val_loss: 0.0611 - val_acc: 0.9858\n",
            "Epoch 18/30\n",
            "41/41 [==============================] - 65s 2s/step - loss: 0.0124 - acc: 0.9976 - val_loss: 0.1306 - val_acc: 0.9744\n",
            "Epoch 19/30\n",
            "41/41 [==============================] - 65s 2s/step - loss: 0.0246 - acc: 0.9927 - val_loss: 0.0687 - val_acc: 0.9829\n",
            "Epoch 20/30\n",
            "41/41 [==============================] - 65s 2s/step - loss: 0.0155 - acc: 0.9976 - val_loss: 0.0694 - val_acc: 0.9801\n",
            "Epoch 21/30\n",
            "41/41 [==============================] - 65s 2s/step - loss: 0.0157 - acc: 0.9963 - val_loss: 0.0964 - val_acc: 0.9772\n",
            "Epoch 22/30\n",
            "41/41 [==============================] - 64s 2s/step - loss: 0.0202 - acc: 0.9951 - val_loss: 0.0731 - val_acc: 0.9801\n",
            "Epoch 23/30\n",
            "41/41 [==============================] - 64s 2s/step - loss: 0.0225 - acc: 0.9963 - val_loss: 0.0630 - val_acc: 0.9858\n",
            "Epoch 24/30\n",
            "41/41 [==============================] - 64s 2s/step - loss: 0.0103 - acc: 0.9976 - val_loss: 0.0870 - val_acc: 0.9801\n",
            "Epoch 25/30\n",
            "41/41 [==============================] - 64s 2s/step - loss: 0.0186 - acc: 0.9963 - val_loss: 0.0566 - val_acc: 0.9886\n",
            "Epoch 26/30\n",
            "41/41 [==============================] - 65s 2s/step - loss: 0.0120 - acc: 0.9976 - val_loss: 0.0562 - val_acc: 0.9886\n",
            "Epoch 27/30\n",
            "41/41 [==============================] - 64s 2s/step - loss: 0.0144 - acc: 0.9963 - val_loss: 0.0704 - val_acc: 0.9858\n",
            "Epoch 28/30\n",
            "41/41 [==============================] - 64s 2s/step - loss: 0.0168 - acc: 0.9963 - val_loss: 0.0789 - val_acc: 0.9801\n",
            "Epoch 29/30\n",
            "41/41 [==============================] - 64s 2s/step - loss: 0.0179 - acc: 0.9939 - val_loss: 0.0830 - val_acc: 0.9772\n",
            "Epoch 30/30\n",
            "41/41 [==============================] - 65s 2s/step - loss: 0.0117 - acc: 0.9951 - val_loss: 0.0979 - val_acc: 0.9801\n"
          ]
        }
      ]
    },
    {
      "cell_type": "code",
      "source": [
        "from keras import layers, models\n",
        "import matplotlib.pyplot as plt\n",
        "\n",
        "acc = history.history['acc']\n",
        "val_acc = history.history['val_acc']\n",
        "loss = history.history['loss']\n",
        "val_loss = history.history['val_loss']\n",
        "\n",
        "epochs = range(len(acc))\n",
        "\n",
        "plt.plot(epochs, acc, 'bo', label='Training acc')\n",
        "plt.plot(epochs, val_acc, 'b', label='Validation acc')\n",
        "plt.title('Training and validation accuracy')\n",
        "plt.legend()\n",
        "plt.savefig('property')\n",
        "\n",
        "plt.figure()\n",
        "\n",
        "plt.plot(epochs, loss, 'bo', label='Training loss')\n",
        "plt.plot(epochs, val_loss, 'b', label='Validation loss')\n",
        "plt.title('Training and validation loss')\n",
        "plt.legend()\n",
        "plt.savefig('loss')"
      ],
      "metadata": {
        "colab": {
          "base_uri": "https://localhost:8080/",
          "height": 545
        },
        "id": "pqvhKNuaWyiQ",
        "outputId": "6ee47c33-a170-443a-ecf4-2721321f746b"
      },
      "execution_count": 20,
      "outputs": [
        {
          "output_type": "display_data",
          "data": {
            "text/plain": [
              "<Figure size 432x288 with 1 Axes>"
            ],
            "image/png": "[encoded data removed]"
          },
          "metadata": {
            "needs_background": "light"
          }
        },
        {
          "output_type": "display_data",
          "data": {
            "text/plain": [
              "<Figure size 432x288 with 1 Axes>"
            ],
            "image/png": "[encoded data removed]"
          },
          "metadata": {
            "needs_background": "light"
          }
        }
      ]
    }
  ]
}