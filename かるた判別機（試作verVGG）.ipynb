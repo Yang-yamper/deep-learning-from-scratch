{
  "cells": [
    {
      "cell_type": "markdown",
      "metadata": {
        "id": "view-in-github",
        "colab_type": "text"
      },
      "source": [
        "<a href=\"https://colab.research.google.com/github/Yang-yamper/deep-learning-from-scratch/blob/master/%E3%81%8B%E3%82%8B%E3%81%9F%E5%88%A4%E5%88%A5%E6%A9%9F%EF%BC%88%E8%A9%A6%E4%BD%9CverVGG%EF%BC%89.ipynb\" target=\"_parent\"><img src=\"https://colab.research.google.com/assets/colab-badge.svg\" alt=\"Open In Colab\"/></a>"
      ]
    },
    {
      "cell_type": "code",
      "execution_count": 1,
      "metadata": {
        "colab": {
          "base_uri": "https://localhost:8080/"
        },
        "id": "iMyI3o9_zgqG",
        "outputId": "b16bd0b7-c38f-4705-cc5b-ce4332aa9e9a"
      },
      "outputs": [
        {
          "output_type": "stream",
          "name": "stdout",
          "text": [
            "Mounted at /content/drive\n"
          ]
        }
      ],
      "source": [
        "from google.colab import drive\n",
        "drive.mount('/content/drive')"
      ]
    },
    {
      "cell_type": "code",
      "execution_count": 2,
      "metadata": {
        "colab": {
          "base_uri": "https://localhost:8080/"
        },
        "id": "JVc_wvNdrv7w",
        "outputId": "5ec00bf9-4ae9-477e-e1e6-91428661b371"
      },
      "outputs": [
        {
          "output_type": "stream",
          "name": "stderr",
          "text": [
            "/usr/local/lib/python3.7/dist-packages/numpy/lib/npyio.py:528: VisibleDeprecationWarning: Creating an ndarray from ragged nested sequences (which is a list-or-tuple of lists-or-tuples-or ndarrays with different lengths or shapes) is deprecated. If you meant to do this, you must specify 'dtype=object' when creating the ndarray.\n",
            "  arr = np.asanyarray(arr)\n"
          ]
        }
      ],
      "source": [
        "from PIL import Image\n",
        "import os, glob\n",
        "import numpy as np\n",
        "import random, math\n",
        "\n",
        "#画像が保存されているルートディレクトリのパス\n",
        "root_dir = \"/content/drive/MyDrive/result_range\"\n",
        "# 商品名\n",
        "categories = [\"left\",\"right\"]\n",
        "\n",
        "# 画像データ用配列\n",
        "X = []\n",
        "# ラベルデータ用配列\n",
        "Y = []\n",
        "\n",
        "#画像データごとにadd_sample()を呼び出し、X,Yの配列を返す関数\n",
        "def make_sample(files):\n",
        "    global X, Y\n",
        "    X = []\n",
        "    Y = []\n",
        "    for cat, fname in files:\n",
        "        add_sample(cat, fname)\n",
        "    return np.array(X), np.array(Y)\n",
        "\n",
        "#渡された画像データを読み込んでXに格納し、また、\n",
        "#画像データに対応するcategoriesのidxをY格納する関数\n",
        "def add_sample(cat, fname):\n",
        "    img = Image.open(fname)\n",
        "    img = img.convert(\"RGB\")\n",
        "    img = img.resize((224,224))\n",
        "    data = np.asarray(img)\n",
        "    X.append(data)\n",
        "    Y.append(cat)\n",
        "\n",
        "#全データ格納用配列\n",
        "allfiles = []\n",
        "\n",
        "#カテゴリ配列の各値と、それに対応するidxを認識し、全データをallfilesにまとめる\n",
        "for idx, cat in enumerate(categories):\n",
        "    image_dir = root_dir + \"/\" + cat\n",
        "    files = glob.glob(image_dir + \"/*.jpg\")\n",
        "    for f in files:\n",
        "        allfiles.append((idx, f))\n",
        "\n",
        "#シャッフル後、学習データと検証データに分ける\n",
        "random.shuffle(allfiles)\n",
        "th = math.floor(len(allfiles) * 0.8)\n",
        "train = allfiles[0:th]\n",
        "test  = allfiles[th:]\n",
        "X_train, y_train = make_sample(train)\n",
        "X_test, y_test = make_sample(test)\n",
        "xy = (X_train, X_test, y_train, y_test)\n",
        "#データを保存する（データの名前を「tea_data.npy」としている）\n",
        "np.save(\"/content/drive/MyDrive/test_caruta.npy\", xy)"
      ]
    },
    {
      "cell_type": "markdown",
      "metadata": {
        "id": "oKmXIL87r_ex"
      },
      "source": [
        "モデルの構築"
      ]
    },
    {
      "cell_type": "code",
      "execution_count": 3,
      "metadata": {
        "colab": {
          "base_uri": "https://localhost:8080/"
        },
        "id": "wk9i0_nxrBB5",
        "outputId": "2bff03bc-8899-49a2-d627-3023a2f8448a"
      },
      "outputs": [
        {
          "output_type": "stream",
          "name": "stdout",
          "text": [
            "Model: \"sequential\"\n",
            "_________________________________________________________________\n",
            " Layer (type)                Output Shape              Param #   \n",
            "=================================================================\n",
            " conv2d (Conv2D)             (None, 222, 222, 16)      448       \n",
            "                                                                 \n",
            " conv2d_1 (Conv2D)           (None, 220, 220, 16)      2320      \n",
            "                                                                 \n",
            " max_pooling2d (MaxPooling2D  (None, 110, 110, 16)     0         \n",
            " )                                                               \n",
            "                                                                 \n",
            " conv2d_2 (Conv2D)           (None, 108, 108, 16)      2320      \n",
            "                                                                 \n",
            " conv2d_3 (Conv2D)           (None, 106, 106, 16)      2320      \n",
            "                                                                 \n",
            " max_pooling2d_1 (MaxPooling  (None, 53, 53, 16)       0         \n",
            " 2D)                                                             \n",
            "                                                                 \n",
            " conv2d_4 (Conv2D)           (None, 51, 51, 32)        4640      \n",
            "                                                                 \n",
            " conv2d_5 (Conv2D)           (None, 49, 49, 32)        9248      \n",
            "                                                                 \n",
            " conv2d_6 (Conv2D)           (None, 47, 47, 32)        9248      \n",
            "                                                                 \n",
            " max_pooling2d_2 (MaxPooling  (None, 23, 23, 32)       0         \n",
            " 2D)                                                             \n",
            "                                                                 \n",
            " conv2d_7 (Conv2D)           (None, 21, 21, 32)        9248      \n",
            "                                                                 \n",
            " conv2d_8 (Conv2D)           (None, 19, 19, 32)        9248      \n",
            "                                                                 \n",
            " conv2d_9 (Conv2D)           (None, 17, 17, 32)        9248      \n",
            "                                                                 \n",
            " max_pooling2d_3 (MaxPooling  (None, 8, 8, 32)         0         \n",
            " 2D)                                                             \n",
            "                                                                 \n",
            " conv2d_10 (Conv2D)          (None, 6, 6, 64)          18496     \n",
            "                                                                 \n",
            " conv2d_11 (Conv2D)          (None, 4, 4, 64)          36928     \n",
            "                                                                 \n",
            " conv2d_12 (Conv2D)          (None, 2, 2, 64)          36928     \n",
            "                                                                 \n",
            " max_pooling2d_4 (MaxPooling  (None, 1, 1, 64)         0         \n",
            " 2D)                                                             \n",
            "                                                                 \n",
            " flatten (Flatten)           (None, 64)                0         \n",
            "                                                                 \n",
            " dense (Dense)               (None, 256)               16640     \n",
            "                                                                 \n",
            " dropout (Dropout)           (None, 256)               0         \n",
            "                                                                 \n",
            " dense_1 (Dense)             (None, 256)               65792     \n",
            "                                                                 \n",
            " dropout_1 (Dropout)         (None, 256)               0         \n",
            "                                                                 \n",
            " dense_2 (Dense)             (None, 2)                 514       \n",
            "                                                                 \n",
            "=================================================================\n",
            "Total params: 233,586\n",
            "Trainable params: 233,586\n",
            "Non-trainable params: 0\n",
            "_________________________________________________________________\n"
          ]
        }
      ],
      "source": [
        "from keras import layers, models\n",
        "\n",
        "model = models.Sequential()\n",
        "model.add(layers.Conv2D(16,(3,3),activation=\"relu\",input_shape=(224,224,3)))\n",
        "model.add(layers.Conv2D(16,(3,3),activation=\"relu\"))\n",
        "model.add(layers.MaxPooling2D((2,2)))#strides=(2,2)\n",
        "model.add(layers.Conv2D(16,(3,3),activation=\"relu\"))\n",
        "model.add(layers.Conv2D(16,(3,3),activation=\"relu\"))\n",
        "model.add(layers.MaxPooling2D((2,2)))\n",
        "model.add(layers.Conv2D(32,(3,3),activation=\"relu\"))\n",
        "model.add(layers.Conv2D(32,(3,3),activation=\"relu\"))\n",
        "model.add(layers.Conv2D(32,(3,3),activation=\"relu\"))\n",
        "model.add(layers.MaxPooling2D((2,2)))\n",
        "model.add(layers.Conv2D(32,(3,3),activation=\"relu\"))\n",
        "model.add(layers.Conv2D(32,(3,3),activation=\"relu\"))\n",
        "model.add(layers.Conv2D(32,(3,3),activation=\"relu\"))\n",
        "model.add(layers.MaxPooling2D((2,2)))\n",
        "model.add(layers.Conv2D(64,(3,3),activation=\"relu\"))\n",
        "model.add(layers.Conv2D(64,(3,3),activation=\"relu\"))\n",
        "model.add(layers.Conv2D(64,(3,3),activation=\"relu\"))\n",
        "model.add(layers.MaxPooling2D((2,2)))\n",
        "model.add(layers.Flatten())\n",
        "model.add(layers.Dense(256,activation=\"relu\"))\n",
        "model.add(layers.Dropout(0.5))\n",
        "model.add(layers.Dense(256,activation=\"relu\"))\n",
        "model.add(layers.Dropout(0.5))\n",
        "model.add(layers.Dense(2,activation=\"sigmoid\")) #分類先の種類分設定\n",
        "\n",
        "#モデル構成の確認\n",
        "model.summary()"
      ]
    },
    {
      "cell_type": "markdown",
      "metadata": {
        "id": "nhGrjSSgsDi-"
      },
      "source": [
        "モデルのコンパイル"
      ]
    },
    {
      "cell_type": "code",
      "execution_count": 4,
      "metadata": {
        "id": "CdkqIyvBsBNU",
        "colab": {
          "base_uri": "https://localhost:8080/"
        },
        "outputId": "a3af23a7-f255-4728-c8b7-6f7dd6d8657b"
      },
      "outputs": [
        {
          "output_type": "stream",
          "name": "stderr",
          "text": [
            "/usr/local/lib/python3.7/dist-packages/keras/optimizers/optimizer_v2/gradient_descent.py:108: UserWarning: The `lr` argument is deprecated, use `learning_rate` instead.\n",
            "  super(SGD, self).__init__(name, **kwargs)\n"
          ]
        }
      ],
      "source": [
        "from tensorflow.keras.optimizers import SGD\n",
        "\n",
        "model.compile(loss=\"categorical_crossentropy\",optimizer=SGD(lr=0.01, momentum=0.1, decay=0.0),metrics=[\"acc\"])"
      ]
    },
    {
      "cell_type": "markdown",
      "metadata": {
        "id": "PzmJM-FMsHfJ"
      },
      "source": [
        "モデルの正規化"
      ]
    },
    {
      "cell_type": "code",
      "execution_count": 5,
      "metadata": {
        "id": "gw0lC_e3sFCs"
      },
      "outputs": [],
      "source": [
        "from keras.utils import np_utils\n",
        "import numpy as np\n",
        "\n",
        "categories = [\"left\",\"right\"]\n",
        "nb_classes = len(categories)\n",
        "\n",
        "X_train, X_test,y_train, y_test = np.load(\"/content/drive/MyDrive/test_caruta.npy\", allow_pickle=True)\n",
        "\n",
        "#データの正規化\n",
        "X_train = X_train.astype(\"float\") / 255\n",
        "X_test  = X_test.astype(\"float\")  / 255\n",
        "\n",
        "#kerasで扱えるようにcategoriesをベクトルに変換\n",
        "y_train = np_utils.to_categorical(y_train, nb_classes)\n",
        "y_test  = np_utils.to_categorical(y_test, nb_classes)"
      ]
    },
    {
      "cell_type": "markdown",
      "metadata": {
        "id": "X4fVLrxksM4d"
      },
      "source": [
        "モデルの学習"
      ]
    },
    {
      "cell_type": "code",
      "execution_count": 6,
      "metadata": {
        "colab": {
          "base_uri": "https://localhost:8080/"
        },
        "id": "UeVnC8Q7sKnt",
        "outputId": "b3b288c4-3b5c-47fa-f426-27c3f4b18422"
      },
      "outputs": [
        {
          "output_type": "stream",
          "name": "stdout",
          "text": [
            "Epoch 1/75\n",
            "59/59 [==============================] - 108s 2s/step - loss: 0.6903 - acc: 0.5531 - val_loss: 0.6911 - val_acc: 0.5308\n",
            "Epoch 2/75\n",
            "59/59 [==============================] - 107s 2s/step - loss: 0.6872 - acc: 0.5599 - val_loss: 0.6915 - val_acc: 0.5308\n",
            "Epoch 3/75\n",
            "59/59 [==============================] - 107s 2s/step - loss: 0.6858 - acc: 0.5599 - val_loss: 0.6915 - val_acc: 0.5308\n",
            "Epoch 4/75\n",
            "59/59 [==============================] - 106s 2s/step - loss: 0.6858 - acc: 0.5599 - val_loss: 0.6920 - val_acc: 0.5308\n",
            "Epoch 5/75\n",
            "59/59 [==============================] - 107s 2s/step - loss: 0.6858 - acc: 0.5599 - val_loss: 0.6915 - val_acc: 0.5308\n",
            "Epoch 6/75\n",
            "59/59 [==============================] - 105s 2s/step - loss: 0.6846 - acc: 0.5599 - val_loss: 0.6926 - val_acc: 0.5308\n",
            "Epoch 7/75\n",
            "59/59 [==============================] - 107s 2s/step - loss: 0.6845 - acc: 0.5599 - val_loss: 0.6908 - val_acc: 0.5308\n",
            "Epoch 8/75\n",
            "59/59 [==============================] - 105s 2s/step - loss: 0.6851 - acc: 0.5599 - val_loss: 0.6926 - val_acc: 0.5308\n",
            "Epoch 9/75\n",
            "59/59 [==============================] - 107s 2s/step - loss: 0.6844 - acc: 0.5599 - val_loss: 0.6896 - val_acc: 0.5308\n",
            "Epoch 10/75\n",
            "59/59 [==============================] - 105s 2s/step - loss: 0.6830 - acc: 0.5599 - val_loss: 0.6919 - val_acc: 0.5308\n",
            "Epoch 11/75\n",
            "59/59 [==============================] - 107s 2s/step - loss: 0.6814 - acc: 0.5599 - val_loss: 0.6865 - val_acc: 0.5308\n",
            "Epoch 12/75\n",
            "59/59 [==============================] - 105s 2s/step - loss: 0.6801 - acc: 0.5599 - val_loss: 0.6831 - val_acc: 0.5308\n",
            "Epoch 13/75\n",
            "59/59 [==============================] - 107s 2s/step - loss: 0.6767 - acc: 0.5608 - val_loss: 0.6920 - val_acc: 0.5308\n",
            "Epoch 14/75\n",
            "59/59 [==============================] - 105s 2s/step - loss: 0.6714 - acc: 0.5625 - val_loss: 0.6957 - val_acc: 0.5308\n",
            "Epoch 15/75\n",
            "59/59 [==============================] - 107s 2s/step - loss: 0.6680 - acc: 0.5848 - val_loss: 0.6715 - val_acc: 0.7979\n",
            "Epoch 16/75\n",
            "59/59 [==============================] - 105s 2s/step - loss: 0.6611 - acc: 0.6087 - val_loss: 0.6615 - val_acc: 0.5856\n",
            "Epoch 17/75\n",
            "59/59 [==============================] - 107s 2s/step - loss: 0.6656 - acc: 0.6164 - val_loss: 0.6703 - val_acc: 0.4795\n",
            "Epoch 18/75\n",
            "59/59 [==============================] - 106s 2s/step - loss: 0.6784 - acc: 0.5856 - val_loss: 0.6996 - val_acc: 0.5308\n",
            "Epoch 19/75\n",
            "59/59 [==============================] - 106s 2s/step - loss: 0.6891 - acc: 0.5599 - val_loss: 0.6952 - val_acc: 0.5308\n",
            "Epoch 20/75\n",
            "59/59 [==============================] - 107s 2s/step - loss: 0.6859 - acc: 0.5599 - val_loss: 0.6942 - val_acc: 0.5308\n",
            "Epoch 21/75\n",
            "59/59 [==============================] - 105s 2s/step - loss: 0.6871 - acc: 0.5599 - val_loss: 0.6936 - val_acc: 0.5308\n",
            "Epoch 22/75\n",
            "59/59 [==============================] - 107s 2s/step - loss: 0.6621 - acc: 0.6344 - val_loss: 0.6960 - val_acc: 0.5308\n",
            "Epoch 23/75\n",
            "59/59 [==============================] - 105s 2s/step - loss: 0.6376 - acc: 0.6892 - val_loss: 0.7141 - val_acc: 0.5308\n",
            "Epoch 24/75\n",
            "59/59 [==============================] - 107s 2s/step - loss: 0.6809 - acc: 0.5993 - val_loss: 0.7068 - val_acc: 0.5308\n",
            "Epoch 25/75\n",
            "59/59 [==============================] - 105s 2s/step - loss: 0.6869 - acc: 0.5599 - val_loss: 0.6957 - val_acc: 0.5308\n",
            "Epoch 26/75\n",
            "59/59 [==============================] - 107s 2s/step - loss: 0.6865 - acc: 0.5599 - val_loss: 0.6926 - val_acc: 0.5308\n",
            "Epoch 27/75\n",
            "59/59 [==============================] - 105s 2s/step - loss: 0.6637 - acc: 0.6267 - val_loss: 0.7011 - val_acc: 0.5308\n",
            "Epoch 28/75\n",
            "59/59 [==============================] - 107s 2s/step - loss: 0.6715 - acc: 0.6002 - val_loss: 0.6996 - val_acc: 0.5308\n",
            "Epoch 29/75\n",
            "59/59 [==============================] - 105s 2s/step - loss: 0.6886 - acc: 0.5599 - val_loss: 0.6929 - val_acc: 0.5308\n",
            "Epoch 30/75\n",
            "59/59 [==============================] - 107s 2s/step - loss: 0.6558 - acc: 0.6250 - val_loss: 0.5876 - val_acc: 0.7432\n",
            "Epoch 31/75\n",
            "59/59 [==============================] - 105s 2s/step - loss: 0.6262 - acc: 0.6670 - val_loss: 0.7135 - val_acc: 0.4726\n",
            "Epoch 32/75\n",
            "59/59 [==============================] - 107s 2s/step - loss: 0.6016 - acc: 0.7098 - val_loss: 0.7285 - val_acc: 0.5308\n",
            "Epoch 33/75\n",
            "59/59 [==============================] - 105s 2s/step - loss: 0.6272 - acc: 0.6627 - val_loss: 0.7257 - val_acc: 0.5308\n",
            "Epoch 34/75\n",
            "59/59 [==============================] - 107s 2s/step - loss: 0.5901 - acc: 0.7123 - val_loss: 0.7006 - val_acc: 0.5445\n",
            "Epoch 35/75\n",
            "59/59 [==============================] - 105s 2s/step - loss: 0.5694 - acc: 0.7286 - val_loss: 0.5286 - val_acc: 0.7500\n",
            "Epoch 36/75\n",
            "59/59 [==============================] - 107s 2s/step - loss: 0.5795 - acc: 0.7226 - val_loss: 0.7229 - val_acc: 0.5308\n",
            "Epoch 37/75\n",
            "59/59 [==============================] - 105s 2s/step - loss: 0.5808 - acc: 0.7243 - val_loss: 0.7464 - val_acc: 0.5308\n",
            "Epoch 38/75\n",
            "59/59 [==============================] - 107s 2s/step - loss: 0.6145 - acc: 0.6772 - val_loss: 0.6450 - val_acc: 0.5719\n",
            "Epoch 39/75\n",
            "59/59 [==============================] - 105s 2s/step - loss: 0.5154 - acc: 0.7842 - val_loss: 0.4314 - val_acc: 0.8219\n",
            "Epoch 40/75\n",
            "59/59 [==============================] - 107s 2s/step - loss: 0.5139 - acc: 0.7800 - val_loss: 0.6189 - val_acc: 0.6370\n",
            "Epoch 41/75\n",
            "59/59 [==============================] - 105s 2s/step - loss: 0.4921 - acc: 0.7783 - val_loss: 0.4218 - val_acc: 0.8390\n",
            "Epoch 42/75\n",
            "59/59 [==============================] - 106s 2s/step - loss: 0.5837 - acc: 0.6901 - val_loss: 0.7154 - val_acc: 0.5308\n",
            "Epoch 43/75\n",
            "59/59 [==============================] - 104s 2s/step - loss: 0.6901 - acc: 0.5625 - val_loss: 0.6945 - val_acc: 0.5308\n",
            "Epoch 44/75\n",
            "59/59 [==============================] - 106s 2s/step - loss: 0.6899 - acc: 0.5557 - val_loss: 0.6954 - val_acc: 0.5308\n",
            "Epoch 45/75\n",
            "59/59 [==============================] - 104s 2s/step - loss: 0.6889 - acc: 0.5599 - val_loss: 0.6941 - val_acc: 0.5308\n",
            "Epoch 46/75\n",
            "59/59 [==============================] - 106s 2s/step - loss: 0.6903 - acc: 0.5599 - val_loss: 0.6935 - val_acc: 0.5308\n",
            "Epoch 47/75\n",
            "59/59 [==============================] - 104s 2s/step - loss: 0.6872 - acc: 0.5574 - val_loss: 0.6929 - val_acc: 0.5308\n",
            "Epoch 48/75\n",
            "59/59 [==============================] - 106s 2s/step - loss: 0.5571 - acc: 0.7209 - val_loss: 0.5028 - val_acc: 0.7808\n",
            "Epoch 49/75\n",
            "59/59 [==============================] - 105s 2s/step - loss: 0.4538 - acc: 0.7997 - val_loss: 0.3416 - val_acc: 0.8459\n",
            "Epoch 50/75\n",
            "59/59 [==============================] - 106s 2s/step - loss: 0.3825 - acc: 0.8459 - val_loss: 0.3779 - val_acc: 0.8562\n",
            "Epoch 51/75\n",
            "59/59 [==============================] - 105s 2s/step - loss: 0.3589 - acc: 0.8536 - val_loss: 0.2951 - val_acc: 0.8699\n",
            "Epoch 52/75\n",
            "59/59 [==============================] - 106s 2s/step - loss: 0.2773 - acc: 0.8896 - val_loss: 0.2520 - val_acc: 0.8904\n",
            "Epoch 53/75\n",
            "59/59 [==============================] - 105s 2s/step - loss: 0.2595 - acc: 0.9024 - val_loss: 0.4792 - val_acc: 0.7500\n",
            "Epoch 54/75\n",
            "59/59 [==============================] - 106s 2s/step - loss: 0.2723 - acc: 0.9041 - val_loss: 0.1938 - val_acc: 0.9007\n",
            "Epoch 55/75\n",
            "59/59 [==============================] - 105s 2s/step - loss: 0.1806 - acc: 0.9349 - val_loss: 0.7007 - val_acc: 0.6541\n",
            "Epoch 56/75\n",
            "59/59 [==============================] - 106s 2s/step - loss: 0.2324 - acc: 0.9178 - val_loss: 0.1734 - val_acc: 0.9418\n",
            "Epoch 57/75\n",
            "59/59 [==============================] - 105s 2s/step - loss: 0.1586 - acc: 0.9426 - val_loss: 0.2574 - val_acc: 0.8870\n",
            "Epoch 58/75\n",
            "59/59 [==============================] - 105s 2s/step - loss: 0.2540 - acc: 0.9135 - val_loss: 0.2002 - val_acc: 0.9178\n",
            "Epoch 59/75\n",
            "59/59 [==============================] - 106s 2s/step - loss: 0.1480 - acc: 0.9478 - val_loss: 0.0602 - val_acc: 0.9795\n",
            "Epoch 60/75\n",
            "59/59 [==============================] - 104s 2s/step - loss: 0.1113 - acc: 0.9538 - val_loss: 0.0915 - val_acc: 0.9692\n",
            "Epoch 61/75\n",
            "59/59 [==============================] - 106s 2s/step - loss: 0.1159 - acc: 0.9649 - val_loss: 0.0709 - val_acc: 0.9863\n",
            "Epoch 62/75\n",
            "59/59 [==============================] - 105s 2s/step - loss: 0.0878 - acc: 0.9760 - val_loss: 0.0555 - val_acc: 0.9726\n",
            "Epoch 63/75\n",
            "59/59 [==============================] - 106s 2s/step - loss: 0.0893 - acc: 0.9743 - val_loss: 0.1335 - val_acc: 0.9384\n",
            "Epoch 64/75\n",
            "59/59 [==============================] - 105s 2s/step - loss: 0.0669 - acc: 0.9795 - val_loss: 0.0373 - val_acc: 0.9829\n",
            "Epoch 65/75\n",
            "59/59 [==============================] - 106s 2s/step - loss: 0.0771 - acc: 0.9777 - val_loss: 0.1757 - val_acc: 0.9418\n",
            "Epoch 66/75\n",
            "59/59 [==============================] - 104s 2s/step - loss: 0.1566 - acc: 0.9409 - val_loss: 0.0488 - val_acc: 0.9795\n",
            "Epoch 67/75\n",
            "59/59 [==============================] - 106s 2s/step - loss: 0.0813 - acc: 0.9726 - val_loss: 0.0522 - val_acc: 0.9863\n",
            "Epoch 68/75\n",
            "59/59 [==============================] - 105s 2s/step - loss: 0.0520 - acc: 0.9846 - val_loss: 0.0299 - val_acc: 0.9863\n",
            "Epoch 69/75\n",
            "59/59 [==============================] - 107s 2s/step - loss: 0.0385 - acc: 0.9863 - val_loss: 0.0488 - val_acc: 0.9795\n",
            "Epoch 70/75\n",
            "59/59 [==============================] - 105s 2s/step - loss: 0.0325 - acc: 0.9923 - val_loss: 0.0549 - val_acc: 0.9623\n",
            "Epoch 71/75\n",
            "59/59 [==============================] - 107s 2s/step - loss: 0.0458 - acc: 0.9829 - val_loss: 0.0666 - val_acc: 0.9726\n",
            "Epoch 72/75\n",
            "59/59 [==============================] - 105s 2s/step - loss: 0.0332 - acc: 0.9897 - val_loss: 0.0566 - val_acc: 0.9658\n",
            "Epoch 73/75\n",
            "59/59 [==============================] - 107s 2s/step - loss: 0.0316 - acc: 0.9880 - val_loss: 0.0350 - val_acc: 0.9863\n",
            "Epoch 74/75\n",
            "59/59 [==============================] - 105s 2s/step - loss: 0.0338 - acc: 0.9906 - val_loss: 0.1037 - val_acc: 0.9555\n",
            "Epoch 75/75\n",
            "59/59 [==============================] - 105s 2s/step - loss: 0.0444 - acc: 0.9872 - val_loss: 0.0590 - val_acc: 0.9623\n"
          ]
        }
      ],
      "source": [
        "model = model.fit(X_train,\n",
        "                  y_train,\n",
        "                  epochs=75,\n",
        "                  batch_size=20,\n",
        "                  validation_data=(X_test,y_test))"
      ]
    },
    {
      "cell_type": "code",
      "execution_count": 7,
      "metadata": {
        "colab": {
          "base_uri": "https://localhost:8080/",
          "height": 545
        },
        "id": "6aLjSi823yBY",
        "outputId": "8b3c2887-0640-4cf9-8a6a-3a10d5c47c3a"
      },
      "outputs": [
        {
          "output_type": "display_data",
          "data": {
            "text/plain": [
              "<Figure size 432x288 with 1 Axes>"
            ],
            "image/png": "[encoded data removed]"
          },
          "metadata": {
            "needs_background": "light"
          }
        },
        {
          "output_type": "display_data",
          "data": {
            "text/plain": [
              "<Figure size 432x288 with 1 Axes>"
            ],
            "image/png": "[encoded data removed]"
          },
          "metadata": {
            "needs_background": "light"
          }
        }
      ],
      "source": [
        "import matplotlib.pyplot as plt\n",
        "\n",
        "acc = model.history['acc']\n",
        "val_acc = model.history['val_acc']\n",
        "loss = model.history['loss']\n",
        "val_loss = model.history['val_loss']\n",
        "\n",
        "epochs = range(len(acc))\n",
        "\n",
        "plt.plot(epochs, acc, 'bo', label='Training acc')\n",
        "plt.plot(epochs, val_acc, 'b', label='Validation acc')\n",
        "plt.title('Training and validation accuracy')\n",
        "plt.legend()\n",
        "plt.savefig('property')\n",
        "\n",
        "plt.figure()\n",
        "\n",
        "plt.plot(epochs, loss, 'bo', label='Training loss')\n",
        "plt.plot(epochs, val_loss, 'b', label='Validation loss')\n",
        "plt.title('Training and validation loss')\n",
        "plt.legend()\n",
        "plt.savefig('loss')"
      ]
    },
    {
      "cell_type": "code",
      "execution_count": 19,
      "metadata": {
        "id": "9uMizVh4ptAu"
      },
      "outputs": [],
      "source": [
        "#モデルの保存\n",
        "\n",
        "json_string = model.model.to_json()\n",
        "open('/content/drive/MyDrive/caruta_predict.json', 'w').write(json_string)\n",
        "\n",
        "#重みの保存\n",
        "\n",
        "hdf5_file = \"/content/drive/MyDrive/caruta_predict.hdf5\"\n",
        "model.model.save(hdf5_file)"
      ]
    },
    {
      "cell_type": "code",
      "execution_count": 20,
      "metadata": {
        "id": "ZmqzjO5CumdK"
      },
      "outputs": [],
      "source": [
        "from PIL import Image\n",
        "import os, glob\n",
        "import numpy as np\n",
        "import random, math\n",
        "\n",
        "# 画像が保存されているディレクトリのパス\n",
        "root_dir = \"/content/drive/MyDrive/result_range\"\n",
        "# 画像が保存されているフォルダ名\n",
        "categories =[\"left\",\"right\"]\n",
        "\n",
        "X = [] # 画像データ\n",
        "Y = [] # ラベルデータ\n",
        "\n",
        "# フォルダごとに分けられたファイルを収集\n",
        "#（categoriesのidxと、画像のファイルパスが紐づいたリストを生成）\n",
        "allfiles = []\n",
        "for idx, cat in enumerate(categories):\n",
        "    image_dir = root_dir + \"/\" + cat\n",
        "    files = glob.glob(image_dir + \"/*.jpg\")\n",
        "    for f in files:\n",
        "        allfiles.append((idx, f))\n",
        "\n",
        "for cat, fname in allfiles:\n",
        "    img = Image.open(fname)\n",
        "    img = img.convert(\"RGB\")\n",
        "    img = img.resize((200,200))\n",
        "    data = np.asarray(img)\n",
        "    X.append(data)\n",
        "    Y.append(cat)\n",
        "\n",
        "x = np.array(X)\n",
        "y = np.array(Y)\n",
        "\n",
        "np.save(\"/content/drive/MyDrive/tea_data_test_X_150.npy\", x)\n",
        "np.save(\"/content/drive/MyDrive/tea_data_test_Y_150.npy\", y)"
      ]
    },
    {
      "cell_type": "code",
      "execution_count": 21,
      "metadata": {
        "colab": {
          "base_uri": "https://localhost:8080/",
          "height": 666
        },
        "id": "YjUYF8hf7Lhd",
        "outputId": "1e36295d-7728-456c-8340-a3fb72aba66d"
      },
      "outputs": [
        {
          "output_type": "error",
          "ename": "ValueError",
          "evalue": "ignored",
          "traceback": [
            "\u001b[0;31m---------------------------------------------------------------------------\u001b[0m",
            "\u001b[0;31mValueError\u001b[0m                                Traceback (most recent call last)",
            "\u001b[0;32m<ipython-input-21-7f342d2e3a45>\u001b[0m in \u001b[0;36m<module>\u001b[0;34m\u001b[0m\n\u001b[1;32m     10\u001b[0m \u001b[0mtest_Y\u001b[0m \u001b[0;34m=\u001b[0m \u001b[0mnp_utils\u001b[0m\u001b[0;34m.\u001b[0m\u001b[0mto_categorical\u001b[0m\u001b[0;34m(\u001b[0m\u001b[0mtest_Y\u001b[0m\u001b[0;34m,\u001b[0m \u001b[0;36m2\u001b[0m\u001b[0;34m)\u001b[0m\u001b[0;34m\u001b[0m\u001b[0;34m\u001b[0m\u001b[0m\n\u001b[1;32m     11\u001b[0m \u001b[0;34m\u001b[0m\u001b[0m\n\u001b[0;32m---> 12\u001b[0;31m \u001b[0mscore\u001b[0m \u001b[0;34m=\u001b[0m \u001b[0mmodel\u001b[0m\u001b[0;34m.\u001b[0m\u001b[0mmodel\u001b[0m\u001b[0;34m.\u001b[0m\u001b[0mevaluate\u001b[0m\u001b[0;34m(\u001b[0m\u001b[0mx\u001b[0m\u001b[0;34m=\u001b[0m\u001b[0mtest_X\u001b[0m\u001b[0;34m,\u001b[0m\u001b[0my\u001b[0m\u001b[0;34m=\u001b[0m\u001b[0mtest_Y\u001b[0m\u001b[0;34m)\u001b[0m\u001b[0;34m\u001b[0m\u001b[0;34m\u001b[0m\u001b[0m\n\u001b[0m\u001b[1;32m     13\u001b[0m \u001b[0;34m\u001b[0m\u001b[0m\n\u001b[1;32m     14\u001b[0m \u001b[0mprint\u001b[0m\u001b[0;34m(\u001b[0m\u001b[0;34m'loss='\u001b[0m\u001b[0;34m,\u001b[0m \u001b[0mscore\u001b[0m\u001b[0;34m[\u001b[0m\u001b[0;36m0\u001b[0m\u001b[0;34m]\u001b[0m\u001b[0;34m)\u001b[0m\u001b[0;34m\u001b[0m\u001b[0;34m\u001b[0m\u001b[0m\n",
            "\u001b[0;32m/usr/local/lib/python3.7/dist-packages/keras/utils/traceback_utils.py\u001b[0m in \u001b[0;36merror_handler\u001b[0;34m(*args, **kwargs)\u001b[0m\n\u001b[1;32m     65\u001b[0m     \u001b[0;32mexcept\u001b[0m \u001b[0mException\u001b[0m \u001b[0;32mas\u001b[0m \u001b[0me\u001b[0m\u001b[0;34m:\u001b[0m  \u001b[0;31m# pylint: disable=broad-except\u001b[0m\u001b[0;34m\u001b[0m\u001b[0;34m\u001b[0m\u001b[0m\n\u001b[1;32m     66\u001b[0m       \u001b[0mfiltered_tb\u001b[0m \u001b[0;34m=\u001b[0m \u001b[0m_process_traceback_frames\u001b[0m\u001b[0;34m(\u001b[0m\u001b[0me\u001b[0m\u001b[0;34m.\u001b[0m\u001b[0m__traceback__\u001b[0m\u001b[0;34m)\u001b[0m\u001b[0;34m\u001b[0m\u001b[0;34m\u001b[0m\u001b[0m\n\u001b[0;32m---> 67\u001b[0;31m       \u001b[0;32mraise\u001b[0m \u001b[0me\u001b[0m\u001b[0;34m.\u001b[0m\u001b[0mwith_traceback\u001b[0m\u001b[0;34m(\u001b[0m\u001b[0mfiltered_tb\u001b[0m\u001b[0;34m)\u001b[0m \u001b[0;32mfrom\u001b[0m \u001b[0;32mNone\u001b[0m\u001b[0;34m\u001b[0m\u001b[0;34m\u001b[0m\u001b[0m\n\u001b[0m\u001b[1;32m     68\u001b[0m     \u001b[0;32mfinally\u001b[0m\u001b[0;34m:\u001b[0m\u001b[0;34m\u001b[0m\u001b[0;34m\u001b[0m\u001b[0m\n\u001b[1;32m     69\u001b[0m       \u001b[0;32mdel\u001b[0m \u001b[0mfiltered_tb\u001b[0m\u001b[0;34m\u001b[0m\u001b[0;34m\u001b[0m\u001b[0m\n",
            "\u001b[0;32m/usr/local/lib/python3.7/dist-packages/keras/engine/training.py\u001b[0m in \u001b[0;36mtf__test_function\u001b[0;34m(iterator)\u001b[0m\n\u001b[1;32m     13\u001b[0m                 \u001b[0;32mtry\u001b[0m\u001b[0;34m:\u001b[0m\u001b[0;34m\u001b[0m\u001b[0;34m\u001b[0m\u001b[0m\n\u001b[1;32m     14\u001b[0m                     \u001b[0mdo_return\u001b[0m \u001b[0;34m=\u001b[0m \u001b[0;32mTrue\u001b[0m\u001b[0;34m\u001b[0m\u001b[0;34m\u001b[0m\u001b[0m\n\u001b[0;32m---> 15\u001b[0;31m                     \u001b[0mretval_\u001b[0m \u001b[0;34m=\u001b[0m \u001b[0mag__\u001b[0m\u001b[0;34m.\u001b[0m\u001b[0mconverted_call\u001b[0m\u001b[0;34m(\u001b[0m\u001b[0mag__\u001b[0m\u001b[0;34m.\u001b[0m\u001b[0mld\u001b[0m\u001b[0;34m(\u001b[0m\u001b[0mstep_function\u001b[0m\u001b[0;34m)\u001b[0m\u001b[0;34m,\u001b[0m \u001b[0;34m(\u001b[0m\u001b[0mag__\u001b[0m\u001b[0;34m.\u001b[0m\u001b[0mld\u001b[0m\u001b[0;34m(\u001b[0m\u001b[0mself\u001b[0m\u001b[0;34m)\u001b[0m\u001b[0;34m,\u001b[0m \u001b[0mag__\u001b[0m\u001b[0;34m.\u001b[0m\u001b[0mld\u001b[0m\u001b[0;34m(\u001b[0m\u001b[0miterator\u001b[0m\u001b[0;34m)\u001b[0m\u001b[0;34m)\u001b[0m\u001b[0;34m,\u001b[0m \u001b[0;32mNone\u001b[0m\u001b[0;34m,\u001b[0m \u001b[0mfscope\u001b[0m\u001b[0;34m)\u001b[0m\u001b[0;34m\u001b[0m\u001b[0;34m\u001b[0m\u001b[0m\n\u001b[0m\u001b[1;32m     16\u001b[0m                 \u001b[0;32mexcept\u001b[0m\u001b[0;34m:\u001b[0m\u001b[0;34m\u001b[0m\u001b[0;34m\u001b[0m\u001b[0m\n\u001b[1;32m     17\u001b[0m                     \u001b[0mdo_return\u001b[0m \u001b[0;34m=\u001b[0m \u001b[0;32mFalse\u001b[0m\u001b[0;34m\u001b[0m\u001b[0;34m\u001b[0m\u001b[0m\n",
            "\u001b[0;31mValueError\u001b[0m: in user code:\n\n    File \"/usr/local/lib/python3.7/dist-packages/keras/engine/training.py\", line 1557, in test_function  *\n        return step_function(self, iterator)\n    File \"/usr/local/lib/python3.7/dist-packages/keras/engine/training.py\", line 1546, in step_function  **\n        outputs = model.distribute_strategy.run(run_step, args=(data,))\n    File \"/usr/local/lib/python3.7/dist-packages/keras/engine/training.py\", line 1535, in run_step  **\n        outputs = model.test_step(data)\n    File \"/usr/local/lib/python3.7/dist-packages/keras/engine/training.py\", line 1499, in test_step\n        y_pred = self(x, training=False)\n    File \"/usr/local/lib/python3.7/dist-packages/keras/utils/traceback_utils.py\", line 67, in error_handler\n        raise e.with_traceback(filtered_tb) from None\n    File \"/usr/local/lib/python3.7/dist-packages/keras/engine/input_spec.py\", line 264, in assert_input_compatibility\n        raise ValueError(f'Input {input_index} of layer \"{layer_name}\" is '\n\n    ValueError: Input 0 of layer \"sequential_9\" is incompatible with the layer: expected shape=(None, 224, 224, 3), found shape=(None, 200, 200, 3)\n"
          ]
        }
      ],
      "source": [
        "# モデルの精度を測る\n",
        "\n",
        "#評価用のデータの読み込み\n",
        "test_X = np.load(\"/content/drive/MyDrive/tea_data_test_X_150.npy\")\n",
        "test_Y = np.load(\"/content/drive/MyDrive/tea_data_test_Y_150.npy\")\n",
        "\n",
        "#Yのデータをone-hotに変換\n",
        "from keras.utils import np_utils\n",
        "\n",
        "test_Y = np_utils.to_categorical(test_Y, 2)\n",
        "\n",
        "score = model.model.evaluate(x=test_X,y=test_Y)\n",
        "\n",
        "print('loss=', score[0])\n",
        "print('accuracy=', score[1])"
      ]
    },
    {
      "cell_type": "markdown",
      "metadata": {
        "id": "eUEekkdXxBSg"
      },
      "source": [
        "正しいジャケ写を選ばせるプログラム"
      ]
    },
    {
      "cell_type": "code",
      "execution_count": null,
      "metadata": {
        "colab": {
          "base_uri": "https://localhost:8080/",
          "height": 263
        },
        "id": "UwHE19eV8cFb",
        "outputId": "0b9c8b7c-f70d-4184-e7a3-daf375fb8743"
      },
      "outputs": [
        {
          "name": "stdout",
          "output_type": "stream",
          "text": [
            "/content/drive/MyDrive/result_range/right/sample_video_img_248_8.71.jpg\n"
          ]
        },
        {
          "ename": "AttributeError",
          "evalue": "ignored",
          "output_type": "error",
          "traceback": [
            "\u001b[0;31m---------------------------------------------------------------------------\u001b[0m",
            "\u001b[0;31mAttributeError\u001b[0m                            Traceback (most recent call last)",
            "\u001b[0;32m<ipython-input-23-43e5b4796e51>\u001b[0m in \u001b[0;36m<module>\u001b[0;34m\u001b[0m\n\u001b[1;32m     15\u001b[0m \u001b[0;31m#画像を読み込む\u001b[0m\u001b[0;34m\u001b[0m\u001b[0;34m\u001b[0m\u001b[0;34m\u001b[0m\u001b[0m\n\u001b[1;32m     16\u001b[0m \u001b[0mimg_path\u001b[0m \u001b[0;34m=\u001b[0m \u001b[0mstr\u001b[0m\u001b[0;34m(\u001b[0m\u001b[0minput\u001b[0m\u001b[0;34m(\u001b[0m\u001b[0;34m)\u001b[0m\u001b[0;34m)\u001b[0m\u001b[0;34m\u001b[0m\u001b[0;34m\u001b[0m\u001b[0m\n\u001b[0;32m---> 17\u001b[0;31m \u001b[0mimg\u001b[0m \u001b[0;34m=\u001b[0m \u001b[0mimage\u001b[0m\u001b[0;34m.\u001b[0m\u001b[0mload_img\u001b[0m\u001b[0;34m(\u001b[0m\u001b[0mimg_path\u001b[0m\u001b[0;34m,\u001b[0m\u001b[0mtarget_size\u001b[0m\u001b[0;34m=\u001b[0m\u001b[0;34m(\u001b[0m\u001b[0;36m200\u001b[0m\u001b[0;34m,\u001b[0m \u001b[0;36m200\u001b[0m\u001b[0;34m,\u001b[0m \u001b[0;36m3\u001b[0m\u001b[0;34m)\u001b[0m\u001b[0;34m)\u001b[0m\u001b[0;34m\u001b[0m\u001b[0;34m\u001b[0m\u001b[0m\n\u001b[0m\u001b[1;32m     18\u001b[0m \u001b[0mx\u001b[0m \u001b[0;34m=\u001b[0m \u001b[0mimage\u001b[0m\u001b[0;34m.\u001b[0m\u001b[0mimg_to_array\u001b[0m\u001b[0;34m(\u001b[0m\u001b[0mimg\u001b[0m\u001b[0;34m)\u001b[0m\u001b[0;34m\u001b[0m\u001b[0;34m\u001b[0m\u001b[0m\n\u001b[1;32m     19\u001b[0m \u001b[0mx\u001b[0m \u001b[0;34m=\u001b[0m \u001b[0mnp\u001b[0m\u001b[0;34m.\u001b[0m\u001b[0mexpand_dims\u001b[0m\u001b[0;34m(\u001b[0m\u001b[0mx\u001b[0m\u001b[0;34m,\u001b[0m \u001b[0maxis\u001b[0m\u001b[0;34m=\u001b[0m\u001b[0;36m0\u001b[0m\u001b[0;34m)\u001b[0m\u001b[0;34m\u001b[0m\u001b[0;34m\u001b[0m\u001b[0m\n",
            "\u001b[0;31mAttributeError\u001b[0m: module 'keras.preprocessing.image' has no attribute 'load_img'"
          ]
        }
      ],
      "source": [
        "#綾鷹を選ばせるプログラム\n",
        "\n",
        "from keras import models\n",
        "from keras.models import model_from_json\n",
        "from keras.preprocessing import image\n",
        "import numpy as np\n",
        "\n",
        "#保存したモデルの読み込み\n",
        "model = model_from_json(open('/content/drive/MyDrive/caruta_predict.json').read())\n",
        "#保存した重みの読み込み\n",
        "model.load_weights('/content/drive/MyDrive/caruta_predict.hdf5')\n",
        "\n",
        "categories = [\"left\",\"right\"]\n",
        "\n",
        "#画像を読み込む\n",
        "img_path = str(input())\n",
        "img = image.load_img(img_path,target_size=(200, 200, 3))\n",
        "x = image.img_to_array(img)\n",
        "x = np.expand_dims(x, axis=0)\n",
        "\n",
        "#予測\n",
        "features = model.predict(x)\n",
        "\n",
        "#予測結果によって処理を分ける\n",
        "if features[0,0] == 1:\n",
        "    print (\"選ばれたのは、leftでした。\")\n",
        "\n",
        "else:\n",
        "    print (\"選ばれたのは、rightでした。\")"
      ]
    }
  ],
  "metadata": {
    "colab": {
      "collapsed_sections": [],
      "provenance": [],
      "include_colab_link": true
    },
    "kernelspec": {
      "display_name": "Python 3",
      "name": "python3"
    },
    "language_info": {
      "name": "python"
    }
  },
  "nbformat": 4,
  "nbformat_minor": 0
}